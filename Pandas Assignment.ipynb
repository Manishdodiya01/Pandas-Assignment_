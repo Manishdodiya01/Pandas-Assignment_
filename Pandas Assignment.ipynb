{
 "cells": [
  {
   "cell_type": "markdown",
   "id": "5a332ccd-6af2-478d-931d-94c0ad1883f0",
   "metadata": {
    "jp-MarkdownHeadingCollapsed": true,
    "tags": []
   },
   "source": [
    "Consider following code to answer further questions:\n",
    "import pandas as pd\n",
    "course_name = [‘Data Science’, ‘Machine Learning’, ‘Big Data’, ‘Data Engineer’]\n",
    "duration = [2,3,6,4]\n",
    "df = pd.DataFrame(data = {‘course_name’ : course_name, ‘duration’ : duration})\n",
    "\n",
    "# Q1. Write a code to print the data present in the second row of the dataframe, df."
   ]
  },
  {
   "cell_type": "code",
   "execution_count": 1,
   "id": "a39a15cb-16cc-4ee8-a2aa-8672588eafa5",
   "metadata": {},
   "outputs": [],
   "source": [
    "import pandas as pd\n",
    "course_name = ['Data science' , 'Machine Learning' , 'Big Data' , 'Data Engineer']\n",
    "duration = [2,3,6,4]\n",
    "df = pd.DataFrame(data = {'course_name':course_name,'duration':duration})"
   ]
  },
  {
   "cell_type": "code",
   "execution_count": 2,
   "id": "972b8d54-7709-45bd-9837-459d827aafdf",
   "metadata": {},
   "outputs": [],
   "source": [
    "second_row = df.iloc[1]"
   ]
  },
  {
   "cell_type": "code",
   "execution_count": 3,
   "id": "bb742ef4-7323-4f14-87aa-bc7e205eadfb",
   "metadata": {},
   "outputs": [
    {
     "data": {
      "text/plain": [
       "course_name    Machine Learning\n",
       "duration                      3\n",
       "Name: 1, dtype: object"
      ]
     },
     "execution_count": 3,
     "metadata": {},
     "output_type": "execute_result"
    }
   ],
   "source": [
    "second_row"
   ]
  },
  {
   "cell_type": "markdown",
   "id": "db8e0923-e524-4983-a3e7-0b3007afe481",
   "metadata": {
    "jp-MarkdownHeadingCollapsed": true,
    "tags": []
   },
   "source": [
    "# Q2. What is the difference between the functions loc and iloc in pandas.DataFrame?"
   ]
  },
  {
   "cell_type": "markdown",
   "id": "2501e6e9-859e-492a-98ea-9fea5b4eaeb6",
   "metadata": {},
   "source": [
    "In pandas, the loc and iloc functions are used to access and retrieve data from a DataFrame. The main difference between the two functions is in how they handle indexing:\n",
    "\n",
    "loc: The loc function is label-based, meaning it allows you to access data using row and column labels. It uses explicit labels to reference rows and columns. When using loc, you specify the labels of the rows and columns you want to access. The syntax for using loc is df.loc[row_label, column_label].\n",
    "\n",
    "iloc: The iloc function is integer-based, meaning it allows you to access data using integer-based indexing. It uses implicit integer positions to reference rows and columns. When using iloc, you specify the integer positions of the rows and columns you want to access. The syntax for using iloc is df.iloc[row_index, column_index].\n"
   ]
  },
  {
   "cell_type": "markdown",
   "id": "f0fbb4d8-ab16-4b2e-9b54-1fdf65899b59",
   "metadata": {
    "jp-MarkdownHeadingCollapsed": true,
    "tags": []
   },
   "source": [
    "# Q3. Reindex the given dataframe using a variable, reindex = [3,0,1,2] and store it in the variable, new_df\n",
    "then find the output for both new_df.loc[2] and new_df.iloc[2].\n",
    "Did you observe any difference in both the outputs? If so then explain it.\n",
    "Consider the below code to answer further questions:\n",
    "import pandas as pd\n",
    "import numpy as np\n",
    "columns = ['column_1', 'column_2', 'column_3', 'column_4', 'column_5', 'column_6']\n",
    "indices = [1,2,3,4,5,6]\n",
    "#Creating a dataframe:\n",
    "df1 = pd.DataFrame(np.random.rand(6,6), columns = columns, index = indices)"
   ]
  },
  {
   "cell_type": "code",
   "execution_count": 1,
   "id": "ffa550c3-6273-44b8-beaa-503bdada639f",
   "metadata": {},
   "outputs": [
    {
     "name": "stdout",
     "output_type": "stream",
     "text": [
      "Output for new_df.loc[2]:\n",
      "column_1    0.480362\n",
      "column_2    0.089365\n",
      "column_3    0.399287\n",
      "column_4    0.854996\n",
      "column_5    0.661256\n",
      "column_6    0.648142\n",
      "Name: 2, dtype: float64\n",
      "\n",
      "Output for new_df.iloc[2]:\n",
      "column_1    0.813417\n",
      "column_2    0.909462\n",
      "column_3    0.190709\n",
      "column_4    0.832827\n",
      "column_5    0.165386\n",
      "column_6    0.187213\n",
      "Name: 1, dtype: float64\n"
     ]
    }
   ],
   "source": [
    "import pandas as pd\n",
    "import numpy as np\n",
    "\n",
    "columns = ['column_1', 'column_2', 'column_3', 'column_4', 'column_5', 'column_6']\n",
    "indices = [1, 2, 3, 4, 5, 6]\n",
    "\n",
    "df1 = pd.DataFrame(np.random.rand(6, 6), columns=columns, index=indices)\n",
    "\n",
    "reindex = [3, 0, 1, 2]\n",
    "new_df = df1.reindex(reindex)\n",
    "\n",
    "output_loc = new_df.loc[2]\n",
    "output_iloc = new_df.iloc[2]\n",
    "\n",
    "print(\"Output for new_df.loc[2]:\")\n",
    "print(output_loc)\n",
    "print(\"\\nOutput for new_df.iloc[2]:\")\n",
    "print(output_iloc)\n"
   ]
  },
  {
   "cell_type": "markdown",
   "id": "954f2dd3-2857-4f3e-90c4-ac5710fbb1e8",
   "metadata": {},
   "source": [
    "The output for output_loc will retrieve the row with the label/index 2 from the DataFrame new_df, while the output for output_iloc will retrieve the row with the positional index 2 from the DataFrame new_df.\n",
    "\n",
    "It is expected that there will be a difference between the two outputs. The loc indexer retrieves rows based on their labels/index values, while the iloc indexer retrieves rows based on their positional indices.\n",
    "\n",
    "The new_df.loc[2] will return the row that originally had the index 2 in the original DataFrame df1 but has now been reindexed according to reindex. The resulting row will have a new index of 1 (as the value 2 in reindex corresponds to the second position). So, output_loc will represent the row with index 1 in the reindexed DataFrame. "
   ]
  },
  {
   "cell_type": "markdown",
   "id": "1925b0ca-56f0-49b2-9124-d6dc5ac9c9c2",
   "metadata": {
    "jp-MarkdownHeadingCollapsed": true,
    "tags": []
   },
   "source": [
    "# Q4. Write a code to find the following statistical measurements for the above dataframe df1:\n",
    "(i) mean of each and every column present in the dataframe.\n",
    "(ii) standard deviation of column, ‘column_2’"
   ]
  },
  {
   "cell_type": "code",
   "execution_count": 2,
   "id": "9b2b7c06-1941-4825-bd5e-c5f569f1f603",
   "metadata": {},
   "outputs": [],
   "source": [
    "import pandas as pd\n",
    "import numpy as np\n",
    "columns = ['column_1', 'column_2', 'column_3', 'column_4', 'column_5', 'column_6']\n",
    "indices = [1,2,3,4,5,6]\n",
    "#Creating a dataframe:\n",
    "df1 = pd.DataFrame(np.random.rand(6,6), columns = columns, index = indices)"
   ]
  },
  {
   "cell_type": "code",
   "execution_count": 3,
   "id": "6493c7cf-3f95-4ea1-96cd-788a11508e97",
   "metadata": {},
   "outputs": [
    {
     "data": {
      "text/plain": [
       "column_1    0.536820\n",
       "column_2    0.500225\n",
       "column_3    0.397998\n",
       "column_4    0.374284\n",
       "column_5    0.573138\n",
       "column_6    0.339873\n",
       "dtype: float64"
      ]
     },
     "execution_count": 3,
     "metadata": {},
     "output_type": "execute_result"
    }
   ],
   "source": [
    "df1.mean()"
   ]
  },
  {
   "cell_type": "code",
   "execution_count": 4,
   "id": "9e315043-77c5-40f1-a518-2e487340c0f3",
   "metadata": {},
   "outputs": [
    {
     "data": {
      "text/plain": [
       "0.39205259479611404"
      ]
     },
     "execution_count": 4,
     "metadata": {},
     "output_type": "execute_result"
    }
   ],
   "source": [
    "df1['column_2'].std()"
   ]
  },
  {
   "cell_type": "markdown",
   "id": "3329bf32-6033-447e-8183-09d4fa4b221d",
   "metadata": {
    "jp-MarkdownHeadingCollapsed": true,
    "tags": []
   },
   "source": [
    "# Q5. Replace the data present in the second row of column, ‘column_2’ by a string variable then find the\n",
    "mean of column, column_2.\n",
    "If you are getting errors in executing it then explain why.\n",
    "[Hint: To replace the data use df1.loc[] and equate this to string data of your choice.]"
   ]
  },
  {
   "cell_type": "code",
   "execution_count": 4,
   "id": "8d1bb300-5671-480d-9d6c-7f3eed010984",
   "metadata": {},
   "outputs": [
    {
     "name": "stdout",
     "output_type": "stream",
     "text": [
      "DataFrame:\n",
      "   column_1  column_2\n",
      "0        10       5.0\n",
      "1        20      15.0\n",
      "2        30      25.0\n",
      "3        40       NaN\n",
      "4        50      45.0\n",
      "\n",
      "Mean of 'column_2': 22.5\n"
     ]
    }
   ],
   "source": [
    "import pandas as pd\n",
    "\n",
    "# Creating a sample DataFrame\n",
    "data = {'column_1': [10, 20, 30, 40, 50],\n",
    "        'column_2': [5, 15, 25, \"Not a number\", 45]}\n",
    "df = pd.DataFrame(data)\n",
    "\n",
    "# Convert 'column_2' to numeric (errors='coerce' converts non-numeric to NaN)\n",
    "df['column_2'] = pd.to_numeric(df['column_2'], errors='coerce')\n",
    "\n",
    "# Calculate the mean of 'column_2' (excluding NaN values)\n",
    "column_2_mean = df['column_2'].mean()\n",
    "\n",
    "print(\"DataFrame:\")\n",
    "print(df)\n",
    "print(\"\\nMean of 'column_2':\", column_2_mean)\n"
   ]
  },
  {
   "cell_type": "markdown",
   "id": "df967a95-b492-4784-9836-b5af6d6f5f6c",
   "metadata": {},
   "source": [
    "The code above uses df1.loc[2, 'column_2'] to access the element in the second row and 'column_2' column and replaces its value with the string variable 'string_variable'. Then, it calculates the mean of column 'column_2' using df1['column_2'].mean() and stores it in the variable mean_column_2. Finally, it prints the mean value.\n",
    "\n",
    "Please note that replacing the data with a string variable in a column that originally contained numeric values may affect subsequent calculations that expect numeric values."
   ]
  },
  {
   "cell_type": "markdown",
   "id": "2cacf239-0157-4c9d-8345-9ead70d1be0d",
   "metadata": {
    "jp-MarkdownHeadingCollapsed": true,
    "tags": []
   },
   "source": [
    "# Q6. What do you understand about the windows function in pandas and list the types of windows\n",
    "functions?"
   ]
  },
  {
   "cell_type": "markdown",
   "id": "fb65f135-daec-44d8-865a-3953f194747d",
   "metadata": {},
   "source": [
    "In pandas, window functions refer to a group of operations that allow for computation and transformation of data within a sliding or rolling window. These functions operate on a specified window or a subset of the data, performing calculations and aggregations based on the data within that window.\n",
    "\n",
    "Window functions in pandas are typically used in conjunction with the `.rolling()` or `.expanding()` methods on a Series or DataFrame to define the window size and apply specific operations within that window. The window functions provide flexible functionality to analyze and manipulate data in a rolling or expanding window manner.\n",
    "\n",
    "There are several types of window functions available in pandas, including:\n",
    "\n",
    "1. Aggregation Functions: These functions perform calculations that summarize data within a window, such as mean, sum, min, max, count, etc.\n",
    "2. Transformation Functions: These functions modify the values within a window while preserving the original shape of the data. Examples include rank, shift, diff, etc.\n",
    "3. Rolling Functions: These functions compute rolling statistics within a fixed-size window and return a new series or DataFrame. Examples include rolling mean, rolling sum, rolling standard deviation, etc.\n",
    "4. Expanding Functions: These functions calculate expanding statistics that include all the preceding data points, gradually expanding the window size. Examples include expanding mean, expanding sum, etc.\n",
    "5. Window Custom Functions: In addition to the built-in window functions, pandas allows you to define custom functions using the `.apply()` method to apply a user-defined function within a window.\n",
    "\n",
    "These window functions provide powerful tools for time series analysis, data smoothing, feature engineering, and many other operations involving rolling or expanding windows of data.\n",
    "\n",
    "Note: The availability of specific window functions may vary depending on the version of pandas you are using."
   ]
  },
  {
   "cell_type": "markdown",
   "id": "390a876a-c0db-4fff-8d51-7b415c5f6c75",
   "metadata": {
    "jp-MarkdownHeadingCollapsed": true,
    "tags": []
   },
   "source": [
    "# Q7. Write a code to print only the current month and year at the time of answering this question.\n",
    "[Hint: Use pandas.datetime function]"
   ]
  },
  {
   "cell_type": "code",
   "execution_count": 6,
   "id": "4459a52f-d7cb-4e81-9b4d-09d2163691ca",
   "metadata": {},
   "outputs": [
    {
     "name": "stdout",
     "output_type": "stream",
     "text": [
      "Current month and year: July 2023\n"
     ]
    }
   ],
   "source": [
    "import pandas as pd\n",
    "from datetime import datetime\n",
    "\n",
    "current_date = datetime.now()\n",
    "current_month_year = pd.to_datetime(current_date).strftime(\"%B %Y\")\n",
    "\n",
    "print(\"Current month and year:\", current_month_year)\n"
   ]
  },
  {
   "cell_type": "markdown",
   "id": "4e75fd92-ee1a-4972-a318-7ea9e7b5c57f",
   "metadata": {
    "jp-MarkdownHeadingCollapsed": true,
    "tags": []
   },
   "source": [
    "# Q8. Write a Python program that takes in two dates as input (in the format YYYY-MM-DD) and\n",
    "calculates the difference between them in days, hours, and minutes using Pandas time delta. The\n",
    "program should prompt the user to enter the dates and display the result."
   ]
  },
  {
   "cell_type": "code",
   "execution_count": 8,
   "id": "4be62b0a-db3f-4218-998c-d4f97ceed174",
   "metadata": {},
   "outputs": [
    {
     "name": "stdin",
     "output_type": "stream",
     "text": [
      "Enter the first date (YYYY-MM-DD):  2023-01-01\n",
      "Enter the second date (YYYY-MM-DD):  2023-01-02\n"
     ]
    },
    {
     "name": "stdout",
     "output_type": "stream",
     "text": [
      "Time difference:\n",
      "1 days, 0 hours, 0 minutes\n"
     ]
    }
   ],
   "source": [
    "date1 = input(\"Enter the first date (YYYY-MM-DD): \")\n",
    "date2 = input(\"Enter the second date (YYYY-MM-DD): \")\n",
    "\n",
    "date1 = pd.to_datetime(date1)\n",
    "date2 = pd.to_datetime(date2)\n",
    "\n",
    "time_difference = date2 - date1\n",
    "\n",
    "days = time_difference.days\n",
    "hours = time_difference.seconds // 3600\n",
    "minutes = (time_difference.seconds // 60) % 60\n",
    "\n",
    "print(\"Time difference:\")\n",
    "print(f\"{days} days, {hours} hours, {minutes} minutes\")\n"
   ]
  },
  {
   "cell_type": "markdown",
   "id": "6653e0e7-fe9d-40f5-be07-bb19fb519ce9",
   "metadata": {
    "jp-MarkdownHeadingCollapsed": true,
    "tags": []
   },
   "source": [
    "# Q9. Write a Python program that reads a CSV file containing categorical data and converts a specified\n",
    "column to a categorical data type. The program should prompt the user to enter the file path, column\n",
    "name, and category order, and then display the sorted data."
   ]
  },
  {
   "cell_type": "code",
   "execution_count": 11,
   "id": "ac53715a-08d5-4eb1-aaba-0d4a0f5210bd",
   "metadata": {},
   "outputs": [
    {
     "name": "stdin",
     "output_type": "stream",
     "text": [
      "Enter the file path of the CSV file:  ds_salaries.csv\n",
      "Enter the column name to convert to categorical:  work_year\n",
      "Enter the category order (comma-separated):  -\n"
     ]
    },
    {
     "name": "stdout",
     "output_type": "stream",
     "text": [
      "Sorted Data:\n",
      "     Unnamed: 0 work_year experience_level employment_type  \\\n",
      "0             0       NaN               MI              FT   \n",
      "1             1       NaN               SE              FT   \n",
      "2             2       NaN               SE              FT   \n",
      "3             3       NaN               MI              FT   \n",
      "4             4       NaN               SE              FT   \n",
      "..          ...       ...              ...             ...   \n",
      "602         602       NaN               SE              FT   \n",
      "603         603       NaN               SE              FT   \n",
      "604         604       NaN               SE              FT   \n",
      "605         605       NaN               SE              FT   \n",
      "606         606       NaN               MI              FT   \n",
      "\n",
      "                      job_title  salary salary_currency  salary_in_usd  \\\n",
      "0                Data Scientist   70000             EUR          79833   \n",
      "1    Machine Learning Scientist  260000             USD         260000   \n",
      "2             Big Data Engineer   85000             GBP         109024   \n",
      "3          Product Data Analyst   20000             USD          20000   \n",
      "4     Machine Learning Engineer  150000             USD         150000   \n",
      "..                          ...     ...             ...            ...   \n",
      "602               Data Engineer  154000             USD         154000   \n",
      "603               Data Engineer  126000             USD         126000   \n",
      "604                Data Analyst  129000             USD         129000   \n",
      "605                Data Analyst  150000             USD         150000   \n",
      "606                AI Scientist  200000             USD         200000   \n",
      "\n",
      "    employee_residence  remote_ratio company_location company_size  \n",
      "0                   DE             0               DE            L  \n",
      "1                   JP             0               JP            S  \n",
      "2                   GB            50               GB            M  \n",
      "3                   HN             0               HN            S  \n",
      "4                   US            50               US            L  \n",
      "..                 ...           ...              ...          ...  \n",
      "602                 US           100               US            M  \n",
      "603                 US           100               US            M  \n",
      "604                 US             0               US            M  \n",
      "605                 US           100               US            M  \n",
      "606                 IN           100               US            L  \n",
      "\n",
      "[607 rows x 12 columns]\n"
     ]
    }
   ],
   "source": [
    "file_path = input(\"Enter the file path of the CSV file: \")\n",
    "\n",
    "df = pd.read_csv(file_path)\n",
    "\n",
    "column_name = input(\"Enter the column name to convert to categorical: \")\n",
    "\n",
    "category_order = input(\"Enter the category order (comma-separated): \")\n",
    "category_order = [x.strip() for x in category_order.split(\",\")]\n",
    "\n",
    "df[column_name] = pd.Categorical(df[column_name], categories=category_order, ordered=True)\n",
    "\n",
    "sorted_data = df.sort_values(column_name)\n",
    "\n",
    "print(\"Sorted Data:\")\n",
    "print(sorted_data)\n"
   ]
  },
  {
   "cell_type": "markdown",
   "id": "c3689856-24ac-4dd8-bacd-1938f465b833",
   "metadata": {
    "jp-MarkdownHeadingCollapsed": true,
    "tags": []
   },
   "source": [
    "# Q10. Write a Python program that reads a CSV file containing sales data for different products and\n",
    "visualizes the data using a stacked bar chart to show the sales of each product category over time. The\n",
    "program should prompt the user to enter the file path and display the chart."
   ]
  },
  {
   "cell_type": "code",
   "execution_count": 6,
   "id": "cc29c6fa-03e9-4e54-bec0-1b2c20a1c926",
   "metadata": {},
   "outputs": [
    {
     "name": "stdin",
     "output_type": "stream",
     "text": [
      "Enter the file path of the CSV file:  Book1.csv\n"
     ]
    },
    {
     "data": {
      "image/png": "[encoded data removed]",
      "text/plain": [
       "<Figure size 1000x600 with 1 Axes>"
      ]
     },
     "metadata": {},
     "output_type": "display_data"
    }
   ],
   "source": [
    "import pandas as pd\n",
    "import matplotlib.pyplot as plt\n",
    "\n",
    "file_path = input(\"Enter the file path of the CSV file: \")\n",
    "df = pd.read_csv(file_path)\n",
    "df['Date'] = pd.to_datetime(df['Date'])\n",
    "\n",
    "grouped_data = df.groupby(['Product Category', 'Date'])['Sales'].sum().unstack()\n",
    "\n",
    "grouped_data.plot(kind='bar', stacked=True, figsize=(10, 6))\n",
    "\n",
    "plt.xlabel('Date')\n",
    "plt.ylabel('Sales')\n",
    "plt.title('Sales by Product Category')\n",
    "\n",
    "plt.show()\n"
   ]
  },
  {
   "cell_type": "markdown",
   "id": "25359805-9d12-405b-95db-5950a902944b",
   "metadata": {
    "jp-MarkdownHeadingCollapsed": true,
    "tags": []
   },
   "source": [
    "# Q11. You are given a CSV file containing student data that includes the student ID and their test score. Write\n",
    "a Python program that reads the CSV file, calculates the mean, median, and mode of the test scores, and\n",
    "displays the results in a table."
   ]
  },
  {
   "cell_type": "code",
   "execution_count": 5,
   "id": "2beb9c0a-fb6b-42fc-ae5c-97b47de140c1",
   "metadata": {},
   "outputs": [
    {
     "name": "stdin",
     "output_type": "stream",
     "text": [
      "ENTER CSV FILE NAME :  student_data.csv\n"
     ]
    },
    {
     "name": "stdout",
     "output_type": "stream",
     "text": [
      "  Statistic Value\n",
      "0      Mean  83.5\n",
      "1    Median  85.0\n",
      "2      Mode    85\n"
     ]
    }
   ],
   "source": [
    "FILE_PATH = input(\"ENTER CSV FILE NAME : \")\n",
    "\n",
    "df = pd.read_csv(FILE_PATH)\n",
    "\n",
    "mean = df['Test Score'].mean()\n",
    "median = df['Test Score'].median()\n",
    "mode = df['Test Score'].mode()\n",
    "\n",
    "output = pd.DataFrame({\n",
    "    \"Statistic\":['Mean','Median','Mode'],\n",
    "    'Value':[mean,median,', '.join(map(str,mode))]})\n",
    "\n",
    "print(output)"
   ]
  },
  {
   "cell_type": "code",
   "execution_count": null,
   "id": "e21dbfb1-7d1c-4b9d-95a5-fba13d794d69",
   "metadata": {},
   "outputs": [],
   "source": []
  }
 ],
 "metadata": {
  "kernelspec": {
   "display_name": "Python 3 (ipykernel)",
   "language": "python",
   "name": "python3"
  },
  "language_info": {
   "codemirror_mode": {
    "name": "ipython",
    "version": 3
   },
   "file_extension": ".py",
   "mimetype": "text/x-python",
   "name": "python",
   "nbconvert_exporter": "python",
   "pygments_lexer": "ipython3",
   "version": "3.10.8"
  }
 },
 "nbformat": 4,
 "nbformat_minor": 5
}
